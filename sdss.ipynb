{
 "cells": [
  {
   "cell_type": "code",
   "execution_count": 18,
   "metadata": {},
   "outputs": [],
   "source": [
    "from astroquery.sdss import SDSS\n",
    "from astropy import coordinates as coords\n",
    "import sdss\n",
    "import pandas as pd\n",
    "from astropy.io import fits\n",
    "from astropy import units as u"
   ]
  },
  {
   "cell_type": "code",
   "execution_count": 19,
   "metadata": {},
   "outputs": [
    {
     "name": "stdout",
     "output_type": "stream",
     "text": [
      "192\n"
     ]
    }
   ],
   "source": [
    "#objets autour des cooredonnées indiquées \n",
    "\n",
    "#'01h26m05.63s +4d54m23.3s' --> 6 redshifts \n",
    "coordonnees = '01h26m05.63s +4d54m23.3s'\n",
    "\n",
    "\n",
    "co = coords.SkyCoord(coordonnees)\n",
    "result = SDSS.query_region(co, radius = '3 arcmin')\n",
    "print(len(result))"
   ]
  },
  {
   "cell_type": "code",
   "execution_count": 20,
   "metadata": {},
   "outputs": [],
   "source": [
    "#récupération de leur ID \n",
    "inter = result[:351]\n",
    "tab = inter[\"objid\"]\n",
    "tab_str = [str(objid) for objid in tab]\n",
    "objid_list = ', '.join(tab_str)"
   ]
  },
  {
   "cell_type": "code",
   "execution_count": 21,
   "metadata": {},
   "outputs": [],
   "source": [
    "#récupération de leurs infos via sql query\n",
    "sql = f\"SELECT ObjID,ra, dec, type,u,g,r,i,z,SpecObjID FROM PhotoObj WHERE objID IN ({objid_list})\"\n",
    "df = sdss.sql2df(sql)"
   ]
  },
  {
   "cell_type": "code",
   "execution_count": 22,
   "metadata": {},
   "outputs": [],
   "source": [
    "df.to_csv('obj_database.csv')"
   ]
  },
  {
   "cell_type": "code",
   "execution_count": 23,
   "metadata": {},
   "outputs": [
    {
     "name": "stdout",
     "output_type": "stream",
     "text": [
      "Done!!\n"
     ]
    }
   ],
   "source": [
    "import pandas as pd\n",
    "\n",
    "id_rs = {}\n",
    "\n",
    "df = pd.read_csv('obj_database.csv')\n",
    "\n",
    "for spec_obj_id in df['SpecObjID']:\n",
    "    if spec_obj_id != 0 :\n",
    "        sp = sdss.SpecObj(spec_obj_id)\n",
    "        sp.download()\n",
    "        rs = sp.z\n",
    "        id_rs[spec_obj_id] = rs\n",
    "\n",
    "df['redshift'] = pd.NA\n",
    "\n",
    "for index, row in df.iterrows():\n",
    "    spec_obj_id = row['SpecObjID']\n",
    "    if pd.notna(spec_obj_id): \n",
    "        redshift = id_rs.get(spec_obj_id, pd.NA)\n",
    "        df.at[index, 'redshift'] = redshift\n",
    "\n",
    "df.to_csv('obj_database.csv', index=False)\n",
    "\n",
    "print(\"Done!!\")"
   ]
  }
 ],
 "metadata": {
  "kernelspec": {
   "display_name": "Python 3",
   "language": "python",
   "name": "python3"
  },
  "language_info": {
   "codemirror_mode": {
    "name": "ipython",
    "version": 3
   },
   "file_extension": ".py",
   "mimetype": "text/x-python",
   "name": "python",
   "nbconvert_exporter": "python",
   "pygments_lexer": "ipython3",
   "version": "3.11.9"
  }
 },
 "nbformat": 4,
 "nbformat_minor": 2
}
