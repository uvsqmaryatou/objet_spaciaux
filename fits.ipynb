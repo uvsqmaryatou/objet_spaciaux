{
 "cells": [
  {
   "cell_type": "code",
   "execution_count": null,
   "metadata": {},
   "outputs": [],
   "source": [
    "from astropy.io import fits\n",
    "\n",
    "fits_file = 'specObj-dr17.fits'\n",
    "\n",
    "hdul = fits.open(fits_file)\n",
    "\n",
    "# hdul.info()\n",
    "\n",
    "for i, hdu in enumerate(hdul):\n",
    "    print(f\"HDU {i} Header:\")\n",
    "    header = hdu.header\n",
    "    for card in header.cards:\n",
    "        print(card)\n",
    "    print(\"\\n\" + \"=\"*50 + \"\\n\")\n",
    "\n",
    "hdul.close()\n"
   ]
  },
  {
   "cell_type": "code",
   "execution_count": 31,
   "metadata": {},
   "outputs": [
    {
     "name": "stdout",
     "output_type": "stream",
     "text": [
      "Données de la colonne 'SPECOBJID' :\n",
      "['    299489676975171584' '    299489951853078528'\n",
      " '    299490226730985472' ... '  14126940609093851136'\n",
      " '  14126940883971758080' '  14126941158849665024']\n",
      "Données de la colonne 'BESTOBJID' :\n",
      "['1237648720142401611' '1237648720142532891' '1237648720142532813' ...\n",
      " '1237653665254932827' '1237673708259377597' '1237673708259442894']\n"
     ]
    }
   ],
   "source": [
    "hdul = fits.open(fits_file)\n",
    "\n",
    "hdu2 = hdul[1]\n",
    "\n",
    "specobjid_data = hdu2.data['SPECOBJID']\n",
    "print(\"Données de la colonne 'SPECOBJID' :\")\n",
    "print(specobjid_data)\n",
    "\n",
    "bestobjid_data = hdu2.data['BESTOBJID']\n",
    "print(\"Données de la colonne 'BESTOBJID' :\")\n",
    "print(bestobjid_data)\n",
    "\n",
    "hdul.close()\n"
   ]
  }
 ],
 "metadata": {
  "kernelspec": {
   "display_name": "Python 3",
   "language": "python",
   "name": "python3"
  },
  "language_info": {
   "codemirror_mode": {
    "name": "ipython",
    "version": 3
   },
   "file_extension": ".py",
   "mimetype": "text/x-python",
   "name": "python",
   "nbconvert_exporter": "python",
   "pygments_lexer": "ipython3",
   "version": "3.11.9"
  }
 },
 "nbformat": 4,
 "nbformat_minor": 2
}
